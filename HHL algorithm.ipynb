{
  "nbformat": 4,
  "nbformat_minor": 0,
  "metadata": {
    "colab": {
      "provenance": [],
      "toc_visible": true,
      "authorship_tag": "ABX9TyO43kCx3fOlnBvECnPmlxI1",
      "include_colab_link": true
    },
    "kernelspec": {
      "name": "python3",
      "display_name": "Python 3"
    },
    "language_info": {
      "name": "python"
    }
  },
  "cells": [
    {
      "cell_type": "markdown",
      "metadata": {
        "id": "view-in-github",
        "colab_type": "text"
      },
      "source": [
        "<a href=\"https://colab.research.google.com/github/ZhalgasbekAyaz/HHL-algorithm/blob/main/HHL%20algorithm.ipynb\" target=\"_parent\"><img src=\"https://colab.research.google.com/assets/colab-badge.svg\" alt=\"Open In Colab\"/></a>"
      ]
    },
    {
      "cell_type": "markdown",
      "source": [
        "# Libraries that were used during this project"
      ],
      "metadata": {
        "id": "FvOtP4wNE0nE"
      }
    },
    {
      "cell_type": "code",
      "source": [
        "import math\n",
        "import numpy as np\n",
        "import sympy\n",
        "try:\n",
        "    import cirq\n",
        "    import cirq_google\n",
        "except ImportError:\n",
        "    print(\"installing cirq...\")\n",
        "    !pip install --quiet cirq-google --pre\n",
        "    print(\"installed cirq.\")\n",
        "    import cirq\n",
        "    import cirq_google"
      ],
      "metadata": {
        "id": "CZ6HHewZ4IlC"
      },
      "execution_count": null,
      "outputs": []
    },
    {
      "cell_type": "markdown",
      "source": [
        "# Encode Quantum Phase estimation gate. The last qubit stores the eigenvector; all other qubits store the estimated phase, in big-endian."
      ],
      "metadata": {
        "id": "N4xngZR5FA2N"
      }
    },
    {
      "cell_type": "markdown",
      "source": [
        "    Args:\n",
        "        num_qubits: The number of qubits of the unitary.\n",
        "        unitary: The unitary gate whose phases will be estimated."
      ],
      "metadata": {
        "id": "Jq6p_MoNHXoU"
      }
    },
    {
      "cell_type": "code",
      "source": [
        "class PhaseEstimation(cirq.Gate):\n",
        "    \"\"\"A gate for Quantum Phase Estimation.\n",
        "\n",
        "    The last qubit stores the eigenvector; all other qubits store the estimated phase,\n",
        "    in big-endian.\n",
        "\n",
        "    Args:\n",
        "        num_qubits: The number of qubits of the unitary.\n",
        "        unitary: The unitary gate whose phases will be estimated.\n",
        "    \"\"\"\n",
        "\n",
        "    def __init__(self, num_qubits, unitary):\n",
        "        self._num_qubits = num_qubits\n",
        "        self.U = unitary\n",
        "\n",
        "    def num_qubits(self):\n",
        "        return self._num_qubits\n",
        "\n",
        "    def _decompose_(self, qubits):\n",
        "        qubits = list(qubits)\n",
        "        yield cirq.H.on_each(*qubits[:-1])\n",
        "        yield PhaseKickback(self.num_qubits(), self.U)(*qubits)\n",
        "        yield cirq.qft(*qubits[:-1], without_reverse=True) ** -1"
      ],
      "metadata": {
        "id": "WDv7iAq64z6Q"
      },
      "execution_count": null,
      "outputs": []
    },
    {
      "cell_type": "markdown",
      "source": [
        "# A gate that represents e^iAt."
      ],
      "metadata": {
        "id": "a2KTRyH8FaX3"
      }
    },
    {
      "cell_type": "markdown",
      "source": [
        "This EigenGate + np.linalg.eigh() implementation is used here purely for demonstrative purposes. If a large matrix is used, the circuit should implement actual Hamiltonian simulation, by using the linear operators framework in Cirq."
      ],
      "metadata": {
        "id": "Y0dkkrkqHQTP"
      }
    },
    {
      "cell_type": "code",
      "source": [
        "class HamiltonianSimulation(cirq.EigenGate):\n",
        "\n",
        "    def __init__(self, A, t, exponent=1.0):\n",
        "        cirq.EigenGate.__init__(self, exponent=exponent)\n",
        "        self.A = A\n",
        "        self.t = t\n",
        "        ws, vs = np.linalg.eigh(A)\n",
        "        self.eigen_components = []\n",
        "        for w, v in zip(ws, vs.T):\n",
        "            theta = w * t / math.pi\n",
        "            P = np.outer(v, np.conj(v))\n",
        "            self.eigen_components.append((theta, P))\n",
        "\n",
        "    def _num_qubits_(self) -> int:\n",
        "        return 1\n",
        "\n",
        "    def _with_exponent(self, exponent):\n",
        "        return HamiltonianSimulation(self.A, self.t, exponent)\n",
        "\n",
        "    def _eigen_components(self):\n",
        "        return self.eigen_components"
      ],
      "metadata": {
        "id": "mA90qv626nuG"
      },
      "execution_count": null,
      "outputs": []
    },
    {
      "cell_type": "markdown",
      "source": [
        "# A gate for the phase kickback stage of Quantum Phase Estimation."
      ],
      "metadata": {
        "id": "BRGbi71zFpee"
      }
    },
    {
      "cell_type": "markdown",
      "source": [
        "It consists of a series of controlled e^iAt gates with the memory qubit as the target and each register qubit as the control, raised to the power of 2 based on the qubit index."
      ],
      "metadata": {
        "id": "30127FVrHA56"
      }
    },
    {
      "cell_type": "code",
      "source": [
        "class PhaseKickback(cirq.Gate):\n",
        "\n",
        "    def __init__(self, num_qubits, unitary):\n",
        "        super(PhaseKickback, self)\n",
        "        self._num_qubits = num_qubits\n",
        "        self.U = unitary\n",
        "\n",
        "    def num_qubits(self):\n",
        "        return self._num_qubits\n",
        "\n",
        "    def _decompose_(self, qubits):\n",
        "        qubits = list(qubits)\n",
        "        memory = qubits.pop()\n",
        "        for i, qubit in enumerate(qubits):\n",
        "            yield cirq.ControlledGate(self.U ** (2**i))(qubit, memory)"
      ],
      "metadata": {
        "id": "bbyOmKQB7Cg0"
      },
      "execution_count": null,
      "outputs": []
    },
    {
      "cell_type": "markdown",
      "source": [
        "# Perform a rotation on an ancilla equivalent to division by eigenvalues of a matrix.\n"
      ],
      "metadata": {
        "id": "8_nOzFDpFxIr"
      }
    },
    {
      "cell_type": "markdown",
      "source": [
        " EigenRotation performs the set of rotation on the ancilla qubit equivalent to division on the memory register by each eigenvalue of the matrix. The last qubit is the ancilla qubit; all remaining qubits are the register, assumed to be big-endian.\n",
        "\n",
        " It consists of a controlled ancilla qubit rotation for each possible value that can be represented by the register. Each rotation is a Ry gate where the angle is calculated from the eigenvalue corresponding to the register value, up to a normalization factor C."
      ],
      "metadata": {
        "id": "rmykg4WCF9f3"
      }
    },
    {
      "cell_type": "code",
      "source": [
        "class EigenRotation(cirq.Gate):\n",
        "\n",
        "    def __init__(self, num_qubits, C, t):\n",
        "        super(EigenRotation, self)\n",
        "        self._num_qubits = num_qubits\n",
        "        self.C = C\n",
        "        self.t = t\n",
        "        self.N = 2 ** (num_qubits - 1)\n",
        "\n",
        "    def num_qubits(self):\n",
        "        return self._num_qubits\n",
        "\n",
        "    def _decompose_(self, qubits):\n",
        "        for k in range(self.N):\n",
        "            kGate = self._ancilla_rotation(k)\n",
        "\n",
        "            # xor's 1 bits correspond to X gate positions.\n",
        "            xor = k ^ (k - 1)\n",
        "\n",
        "            for q in qubits[-2::-1]:\n",
        "                # Place X gates\n",
        "                if xor % 2 == 1:\n",
        "                    yield cirq.X(q)\n",
        "                xor >>= 1\n",
        "\n",
        "                # Build controlled ancilla rotation\n",
        "                kGate = cirq.ControlledGate(kGate)\n",
        "\n",
        "            yield kGate(*qubits)\n",
        "\n",
        "    def _ancilla_rotation(self, k):\n",
        "        if k == 0:\n",
        "            k = self.N\n",
        "        theta = 2 * math.asin(self.C * self.N * self.t / (2 * math.pi * k))\n",
        "        return cirq.ry(theta)"
      ],
      "metadata": {
        "id": "sUH1E-J47UfR"
      },
      "execution_count": null,
      "outputs": []
    },
    {
      "cell_type": "markdown",
      "source": [
        "# Constructs the HHL circuit and defines simulation."
      ],
      "metadata": {
        "id": "rboON48EF3Sc"
      }
    },
    {
      "cell_type": "markdown",
      "source": [
        "Args:\n",
        "        A: The input Hermitian matrix.\n",
        "        C: Algorithm parameter, see above.\n",
        "        t: Algorithm parameter, see above.\n",
        "        register_size: The size of the eigenvalue register.\n",
        "        *input_prep_gates: A list of gates to be applied to |0> to generate the desired input\n",
        "            state |b>.\n",
        "\n",
        "Returns:\n",
        "        The HHL circuit. The ancilla measurement has key 'a' and the memory measurement is in key\n",
        "        'm'.  There are two parameters in the circuit, `exponent` and `phase_exponent` corresponding\n",
        "        to a possible rotation  applied before the measurement on the memory with a\n",
        "        `cirq.PhasedXPowGate`."
      ],
      "metadata": {
        "id": "RsFzF2CnF5f_"
      }
    },
    {
      "cell_type": "code",
      "source": [
        "def hhl_circuit(A, C, t, register_size, *input_prep_gates):\n",
        "\n",
        "    ancilla = cirq.LineQubit(0)\n",
        "    # to store eigenvalues of the matrix\n",
        "    register = [cirq.LineQubit(i + 1) for i in range(register_size)]\n",
        "    # to store input and output vectors\n",
        "    memory = cirq.LineQubit(register_size + 1)\n",
        "\n",
        "    c = cirq.Circuit()\n",
        "    hs = HamiltonianSimulation(A, t)\n",
        "    pe = PhaseEstimation(register_size + 1, hs)\n",
        "    c.append([gate(memory) for gate in input_prep_gates])\n",
        "    c.append(\n",
        "        [\n",
        "            pe(*(register + [memory])),\n",
        "            EigenRotation(register_size + 1, C, t)(*(register + [ancilla])),\n",
        "            pe(*(register + [memory])) ** -1,\n",
        "            cirq.measure(ancilla, key='a'),\n",
        "        ]\n",
        "    )\n",
        "\n",
        "    c.append(\n",
        "        [\n",
        "            cirq.PhasedXPowGate(\n",
        "                exponent=sympy.Symbol('exponent'), phase_exponent=sympy.Symbol('phase_exponent')\n",
        "            )(memory),\n",
        "            cirq.measure(memory, key='m'),\n",
        "        ]\n",
        "    )\n",
        "\n",
        "    return c"
      ],
      "metadata": {
        "id": "zT5xF-C87ygT"
      },
      "execution_count": null,
      "outputs": []
    },
    {
      "cell_type": "code",
      "source": [
        "def simulate(circuit):\n",
        "    simulator = cirq.Simulator()\n",
        "\n",
        "    params = [\n",
        "        {'exponent': 0.5, 'phase_exponent': -0.5},\n",
        "        {'exponent': 0.5, 'phase_exponent': 0},\n",
        "        {'exponent': 0, 'phase_exponent': 0},\n",
        "    ]\n",
        "\n",
        "    results = simulator.run_sweep(circuit, params, repetitions=5000)\n",
        "\n",
        "    for label, result in zip(('X', 'Y', 'Z'), list(results)):\n",
        "\n",
        "        expectation = 1 - 2 * np.mean(result.measurements['m'][result.measurements['a'] == 1])\n",
        "        print(f'{label} = {expectation}')\n"
      ],
      "metadata": {
        "id": "tmno7RgC7873"
      },
      "execution_count": null,
      "outputs": []
    },
    {
      "cell_type": "markdown",
      "source": [
        "# The main program loop."
      ],
      "metadata": {
        "id": "wiDceLB_GsFp"
      }
    },
    {
      "cell_type": "markdown",
      "source": [
        "Simulates HHL with matrix input, and outputs Pauli observables of the resulting qubit state |x>.\n",
        "Expected observables are calculated from the expected solution |x>."
      ],
      "metadata": {
        "id": "s_VKSkFrGRJX"
      }
    },
    {
      "cell_type": "code",
      "source": [
        "def main():\n",
        "    A = np.array(\n",
        "        [\n",
        "            [4.30213466 - 6.01593490e-08j, 0.23531802 + 9.34386156e-01j],\n",
        "            [0.23531882 - 9.34388383e-01j, 0.58386534 + 6.01593489e-08j],\n",
        "        ]\n",
        "    )\n",
        "    t = 0.358166 * math.pi\n",
        "    register_size = 4\n",
        "    input_prep_gates = [cirq.rx(1.276359), cirq.rz(1.276359)]\n",
        "    expected = (0.144130, 0.413217, -0.899154)\n",
        "\n",
        "    # Set C to be the smallest eigenvalue that can be represented by the\n",
        "    # circuit.\n",
        "    C = 2 * math.pi / (2**register_size * t)\n",
        "\n",
        "    # Simulate circuit.\n",
        "    print(\"Expected observable outputs:\")\n",
        "    print(\"X =\", expected[0])\n",
        "    print(\"Y =\", expected[1])\n",
        "    print(\"Z =\", expected[2])\n",
        "    print(\"Actual: \")\n",
        "    simulate(hhl_circuit(A, C, t, register_size, *input_prep_gates))"
      ],
      "metadata": {
        "id": "AnR_A1Dp8NWz"
      },
      "execution_count": null,
      "outputs": []
    },
    {
      "cell_type": "code",
      "source": [
        "  if __name__ == \"__main__\":\n",
        "    main()"
      ],
      "metadata": {
        "colab": {
          "base_uri": "https://localhost:8080/"
        },
        "id": "cz8a9SE0-2qG",
        "outputId": "f786d2ee-a640-4c6c-f15e-843722334b2e"
      },
      "execution_count": null,
      "outputs": [
        {
          "output_type": "stream",
          "name": "stdout",
          "text": [
            "Expected observable outputs:\n",
            "X = 0.14413\n",
            "Y = 0.413217\n",
            "Z = -0.899154\n",
            "Actual: \n",
            "X = 0.10482019892884464\n",
            "Y = 0.44674556213017746\n",
            "Z = -0.9044006069802732\n"
          ]
        }
      ]
    }
  ]
}